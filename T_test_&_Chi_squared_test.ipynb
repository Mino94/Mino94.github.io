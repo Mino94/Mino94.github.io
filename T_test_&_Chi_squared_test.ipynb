{
  "nbformat": 4,
  "nbformat_minor": 0,
  "metadata": {
    "colab": {
      "name": "T-test & Chi-squared test",
      "provenance": [],
      "authorship_tag": "ABX9TyPOoC5gmtNJICQNLecPqYvY",
      "include_colab_link": true
    },
    "kernelspec": {
      "name": "python3",
      "display_name": "Python 3"
    }
  },
  "cells": [
    {
      "cell_type": "markdown",
      "metadata": {
        "id": "view-in-github",
        "colab_type": "text"
      },
      "source": [
        "<a href=\"https://colab.research.google.com/github/Mino94/Mino94.github.io/blob/master/T_test_%26_Chi_squared_test.ipynb\" target=\"_parent\"><img src=\"https://colab.research.google.com/assets/colab-badge.svg\" alt=\"Open In Colab\"/></a>"
      ]
    },
    {
      "cell_type": "markdown",
      "metadata": {
        "id": "WZqsXURxt3Re"
      },
      "source": [
        "# **T-test & Chi-squared test**"
      ]
    },
    {
      "cell_type": "code",
      "metadata": {
        "id": "l2T_azJDnUG-"
      },
      "source": [
        "import pandas as pd\r\n",
        "import numpy as np\r\n",
        "import seaborn as sns\r\n",
        "from scipy import stats\r\n",
        "\r\n",
        "# 데이터셋 불러오기\r\n",
        "df = sns.load_dataset(\"penguins\")\r\n",
        "df = df.dropna()\r\n",
        "\r\n",
        "# 데이터 프레임 column명 수정\r\n",
        "df = df.rename(columns={\"species\":\"species\", \"island\":\"island\", \"bill_length_mm\":\"bill_length\", \"bill_depth_mm\":\"bill_depth\",\r\n",
        "                        \"flipper_length_mm\":\"flipper_length\", \"body_mass_g\":\"body_mass\", \"sex\":\"sex\"})\r\n"
      ],
      "execution_count": 13,
      "outputs": []
    },
    {
      "cell_type": "code",
      "metadata": {
        "colab": {
          "base_uri": "https://localhost:8080/",
          "height": 197
        },
        "id": "BA24AgcRnkuv",
        "outputId": "3b455686-e0bb-41d8-aa28-9f7799b0aa28"
      },
      "source": [
        "df.head()"
      ],
      "execution_count": 14,
      "outputs": [
        {
          "output_type": "execute_result",
          "data": {
            "text/html": [
              "<div>\n",
              "<style scoped>\n",
              "    .dataframe tbody tr th:only-of-type {\n",
              "        vertical-align: middle;\n",
              "    }\n",
              "\n",
              "    .dataframe tbody tr th {\n",
              "        vertical-align: top;\n",
              "    }\n",
              "\n",
              "    .dataframe thead th {\n",
              "        text-align: right;\n",
              "    }\n",
              "</style>\n",
              "<table border=\"1\" class=\"dataframe\">\n",
              "  <thead>\n",
              "    <tr style=\"text-align: right;\">\n",
              "      <th></th>\n",
              "      <th>species</th>\n",
              "      <th>island</th>\n",
              "      <th>bill_length</th>\n",
              "      <th>bill_depth</th>\n",
              "      <th>flipper_length</th>\n",
              "      <th>body_mass</th>\n",
              "      <th>sex</th>\n",
              "    </tr>\n",
              "  </thead>\n",
              "  <tbody>\n",
              "    <tr>\n",
              "      <th>0</th>\n",
              "      <td>Adelie</td>\n",
              "      <td>Torgersen</td>\n",
              "      <td>39.1</td>\n",
              "      <td>18.7</td>\n",
              "      <td>181.0</td>\n",
              "      <td>3750.0</td>\n",
              "      <td>Male</td>\n",
              "    </tr>\n",
              "    <tr>\n",
              "      <th>1</th>\n",
              "      <td>Adelie</td>\n",
              "      <td>Torgersen</td>\n",
              "      <td>39.5</td>\n",
              "      <td>17.4</td>\n",
              "      <td>186.0</td>\n",
              "      <td>3800.0</td>\n",
              "      <td>Female</td>\n",
              "    </tr>\n",
              "    <tr>\n",
              "      <th>2</th>\n",
              "      <td>Adelie</td>\n",
              "      <td>Torgersen</td>\n",
              "      <td>40.3</td>\n",
              "      <td>18.0</td>\n",
              "      <td>195.0</td>\n",
              "      <td>3250.0</td>\n",
              "      <td>Female</td>\n",
              "    </tr>\n",
              "    <tr>\n",
              "      <th>4</th>\n",
              "      <td>Adelie</td>\n",
              "      <td>Torgersen</td>\n",
              "      <td>36.7</td>\n",
              "      <td>19.3</td>\n",
              "      <td>193.0</td>\n",
              "      <td>3450.0</td>\n",
              "      <td>Female</td>\n",
              "    </tr>\n",
              "    <tr>\n",
              "      <th>5</th>\n",
              "      <td>Adelie</td>\n",
              "      <td>Torgersen</td>\n",
              "      <td>39.3</td>\n",
              "      <td>20.6</td>\n",
              "      <td>190.0</td>\n",
              "      <td>3650.0</td>\n",
              "      <td>Male</td>\n",
              "    </tr>\n",
              "  </tbody>\n",
              "</table>\n",
              "</div>"
            ],
            "text/plain": [
              "  species     island  bill_length  ...  flipper_length  body_mass     sex\n",
              "0  Adelie  Torgersen         39.1  ...           181.0     3750.0    Male\n",
              "1  Adelie  Torgersen         39.5  ...           186.0     3800.0  Female\n",
              "2  Adelie  Torgersen         40.3  ...           195.0     3250.0  Female\n",
              "4  Adelie  Torgersen         36.7  ...           193.0     3450.0  Female\n",
              "5  Adelie  Torgersen         39.3  ...           190.0     3650.0    Male\n",
              "\n",
              "[5 rows x 7 columns]"
            ]
          },
          "metadata": {
            "tags": []
          },
          "execution_count": 14
        }
      ]
    },
    {
      "cell_type": "markdown",
      "metadata": {
        "id": "_tRvo9Oxn-j8"
      },
      "source": [
        "# T-test\r\n",
        "## **표본집단의 평균**을 비교하고 싶을 때 선택하는 방법이다.\r\n",
        "값이 완벽하게 같은지를 보는 게 아니라 '통계적으로 유의미한 차이가 있는지 추정한다'"
      ]
    },
    {
      "cell_type": "markdown",
      "metadata": {
        "id": "Qe-3lpunoC0X"
      },
      "source": [
        "### 1) one sample T-test\r\n",
        "\r\n",
        "- 귀무가설: Adelie 펭귄의 평균 몸무게는 8kg일 것이다.\r\n",
        "- 대립가설: Adelie 펭귄의 평균 몸무게는 8kg이 아닐 것이다.\r\n",
        "- 신뢰도 : 95%"
      ]
    },
    {
      "cell_type": "code",
      "metadata": {
        "colab": {
          "base_uri": "https://localhost:8080/"
        },
        "id": "_cDhsqtFoB_T",
        "outputId": "83d203e7-9074-44fd-8c7f-1e80127550ad"
      },
      "source": [
        "adelie = df[df[\"species\"]=='Adelie'][\"body_mass\"]\r\n",
        "stats.ttest_1samp(adelie, 8000)"
      ],
      "execution_count": 15,
      "outputs": [
        {
          "output_type": "execute_result",
          "data": {
            "text/plain": [
              "Ttest_1sampResult(statistic=-113.12763925848728, pvalue=2.511309970725206e-143)"
            ]
          },
          "metadata": {
            "tags": []
          },
          "execution_count": 15
        }
      ]
    },
    {
      "cell_type": "markdown",
      "metadata": {
        "id": "NAo2yQj0owP8"
      },
      "source": [
        "**p-value 가 0.05보다 작기 때문에 귀무가설을 기각하고 대립가설을 채택한다. 따라서 Adelie 펭귄의 평균 몸무게는 8kg가 아니다.**"
      ]
    },
    {
      "cell_type": "markdown",
      "metadata": {
        "id": "phZvNlnKpN3P"
      },
      "source": [
        "- 귀무가설: Adelie 펭귄의 평균 몸무게는 3.72kg일 것이다.\r\n",
        "- 대립가설: Adelie 펭귄의 평균 몸무게는 3.72kg이 아닐 것이다.\r\n",
        "- 신뢰도: 85%"
      ]
    },
    {
      "cell_type": "code",
      "metadata": {
        "colab": {
          "base_uri": "https://localhost:8080/"
        },
        "id": "jr3pM_k6nq5j",
        "outputId": "99850540-a321-4803-a86d-10b4ba791371"
      },
      "source": [
        "adelie = df[df[\"species\"] == \"Adelie\"][\"body_mass\"]\r\n",
        "stats.ttest_1samp(adelie, 3720)"
      ],
      "execution_count": 16,
      "outputs": [
        {
          "output_type": "execute_result",
          "data": {
            "text/plain": [
              "Ttest_1sampResult(statistic=-0.36452038810359905, pvalue=0.7160005111390735)"
            ]
          },
          "metadata": {
            "tags": []
          },
          "execution_count": 16
        }
      ]
    },
    {
      "cell_type": "markdown",
      "metadata": {
        "id": "v9tTo_dApcEb"
      },
      "source": [
        "**p-value가 0.05보다 크기 때문에 귀무가설을 기각할 수 없다. 따라서 Adelie펭귄의 평균 몸무게는 3.72kg일 것이다.**"
      ]
    },
    {
      "cell_type": "markdown",
      "metadata": {
        "id": "OJZhUpn9pu-3"
      },
      "source": [
        "---\r\n",
        "### 2) two sample T-test\r\n",
        "표본집단 A와 표본집단 B의 평균을 비교할 때 사용한다.\r\n",
        "- 귀무가설: Adelie 펭귄의 평균 부리 깊이와 Gentoo 펭귄의 평균 부리 깊이는 같다.\r\n",
        "- 대립가설: Adelie 펭귄의 평균 부리 깊이와 Gentoo 펭귄의 평균 부리 깊이는 같지 않다.\r\n",
        "- 신뢰도 : 95%"
      ]
    },
    {
      "cell_type": "code",
      "metadata": {
        "colab": {
          "base_uri": "https://localhost:8080/"
        },
        "id": "JLsD5fbFpq9v",
        "outputId": "57c07341-6b5a-4ff2-98bc-8d1c56f30e58"
      },
      "source": [
        "adelie = df[df[\"species\"] == \"Adelie\"][\"bill_depth\"]\r\n",
        "gentoo = df[df[\"species\"] == \"Gentoo\"][\"bill_depth\"]\r\n",
        "stats.ttest_ind(adelie, gentoo)"
      ],
      "execution_count": 17,
      "outputs": [
        {
          "output_type": "execute_result",
          "data": {
            "text/plain": [
              "Ttest_indResult(statistic=24.208855744860315, pvalue=6.91055572279657e-69)"
            ]
          },
          "metadata": {
            "tags": []
          },
          "execution_count": 17
        }
      ]
    },
    {
      "cell_type": "markdown",
      "metadata": {
        "id": "OK43ju81qeJQ"
      },
      "source": [
        "**p-value가 0.05보다 작기 때문에 귀무가설을 기각하고 대립가설을 채택한다. 따라서 Adelie 펭귄의 평균 부리 깊이와 Gentoo 펭귄의 평균 부리 깊이는 같지 않다.**"
      ]
    },
    {
      "cell_type": "markdown",
      "metadata": {
        "id": "fQCPvYhJqsHB"
      },
      "source": [
        "\r\n",
        "*   귀무가설: Adelie 펭귄의 평균 부리 깊이와 Chinstrap 펭귄의 평균 부리 깊이는 같다.\r\n",
        "\r\n",
        "\r\n",
        "*   대립가설: Adelie 펭귄의 평균 부리 깊이와 Chinstrap 펭귄의 평균 부리 깊이는 같지 않다.\r\n",
        "\r\n",
        "\r\n",
        "* 신뢰도: 95%"
      ]
    },
    {
      "cell_type": "code",
      "metadata": {
        "colab": {
          "base_uri": "https://localhost:8080/"
        },
        "id": "h45fL23FpamJ",
        "outputId": "bf88ccf5-36ee-4dab-e335-073782b22c2c"
      },
      "source": [
        "adelie = df[df[\"species\"] == \"Adelie\"][\"bill_depth\"]\r\n",
        "chinstrap = df[df[\"species\"] == \"Chinstrap\"][\"bill_depth\"]\r\n",
        "stats.ttest_ind(adelie, chinstrap)"
      ],
      "execution_count": 18,
      "outputs": [
        {
          "output_type": "execute_result",
          "data": {
            "text/plain": [
              "Ttest_indResult(statistic=-0.41849509118137584, pvalue=0.6760088132938111)"
            ]
          },
          "metadata": {
            "tags": []
          },
          "execution_count": 18
        }
      ]
    },
    {
      "cell_type": "markdown",
      "metadata": {
        "id": "KXz-94aFq3J_"
      },
      "source": [
        "**two sample T-test 시행 결과, p-value가 0.05보다 크기 때문에 귀무가설을 기각할 수 없다. 따라서 Adelie 펭귄의 평균 부리 깊이와 Chinstrap 펭귄의 평균 부리 깊이는 같다.**\r\n",
        "\r\n"
      ]
    },
    {
      "cell_type": "markdown",
      "metadata": {
        "id": "Rx8z3aMFrO1D"
      },
      "source": [
        "# Chi-squared test (카이제곱 검정)\r\n",
        "## **표본집단의 분포**를 비교하고 싶을 때 선택하는 방법이다.\r\n",
        "값이 완벽하게 같은지를 보는 게 아니라 '통계적으로 유의미한 차이가 있는지 추정한다'"
      ]
    },
    {
      "cell_type": "markdown",
      "metadata": {
        "id": "d1WQseiOrf9A"
      },
      "source": [
        "### 1) One sample Chi-squared test\r\n",
        "우리는 흔히 암컷과 수컷의 개체 수가 동일하리라 생각한다.\r\n",
        "표본집단에 총 100마리가 있다면, 성별 분포의 기댓값은 암컷과 수컷이 각각 50마리씩 있는 것이다.\r\n",
        "\r\n",
        "*   귀무 가설: 펭귄의 성비는 1:1일 것이다.\r\n",
        "*   대립 가설: 펭귄의 성비는 1:1이 아닐것이다.\r\n",
        "* 신뢰도: 95%\r\n",
        "\r\n"
      ]
    },
    {
      "cell_type": "code",
      "metadata": {
        "colab": {
          "base_uri": "https://localhost:8080/"
        },
        "id": "vhBAPAFGq1ZM",
        "outputId": "3d38ad58-3176-4a60-8b1f-b4955780782e"
      },
      "source": [
        "male = df[\"sex\"].value_counts()[\"Male\"]\r\n",
        "female = df[\"sex\"].value_counts()[\"Female\"]\r\n",
        "exp = len(df)/2\r\n",
        "stats.chisquare(f_obs=[male, female], f_exp=[exp, exp])"
      ],
      "execution_count": 19,
      "outputs": [
        {
          "output_type": "execute_result",
          "data": {
            "text/plain": [
              "Power_divergenceResult(statistic=0.02702702702702703, pvalue=0.8694170607412391)"
            ]
          },
          "metadata": {
            "tags": []
          },
          "execution_count": 19
        }
      ]
    },
    {
      "cell_type": "markdown",
      "metadata": {
        "id": "3CPNMIIrsx4f"
      },
      "source": [
        "p-value가 0.05보다 크기 때문에 귀무가설을 기각할 수 없다. 따라서, 펭귄의 성비는 1:1이다. \r\n",
        "\r\n",
        "> one sample Chi-squared test의 귀무가설은 \"표본집단의 분포가 기대와 동일하다.\"이다. 이에 대한 대립가설은 \"표본집단의 분포가 기대와 동일하지 않다.\"이다.\r\n",
        "\r\n"
      ]
    },
    {
      "cell_type": "markdown",
      "metadata": {
        "id": "ru0yp0pqtSpy"
      },
      "source": [
        "### 2) Two sample Chi-squared test\r\n",
        " 두 표본집단의 분포가 동일한지 확인할 때 사용한다. 즉, 두 표본집단이 연관이 있는지, 없는지를 확인할 수 있다. categorical data에만 사용할 수 있다는 점\r\n",
        "\r\n",
        "*   귀무 가설: 펭귄의 몸무게와 플리퍼 길이는 연관이 있다.\r\n",
        "*   대립 가설: 펭귄의 몸무게와 플리퍼 길이는 연관이 없다.\r\n",
        "* 신뢰도: 95%\r\n",
        "\r\n"
      ]
    },
    {
      "cell_type": "code",
      "metadata": {
        "id": "aEByt6hGscwe"
      },
      "source": [
        "mass_cut = pd.cut(df[\"body_mass\"], 3).astype(\"category\")\r\n",
        "flipper_cut = pd.cut(df[\"flipper_length\"], 3).astype(\"category\")\r\n",
        "data = pd.crosstab(mass_cut, flipper_cut)\r\n",
        "data.columns = [\"Short\", \"Middle\", \"Long\"]\r\n",
        "data.index = [\"Light\", \"Middle\", \"Heavy\"]"
      ],
      "execution_count": 20,
      "outputs": []
    },
    {
      "cell_type": "code",
      "metadata": {
        "colab": {
          "base_uri": "https://localhost:8080/"
        },
        "id": "3Xw9U1i3tsbV",
        "outputId": "bd09b90a-f3c7-4480-e042-31866d76e4a4"
      },
      "source": [
        "chi, pvalue, _, _ = stats.chi2_contingency(data, correction=False)\r\n",
        "chi, pvalue"
      ],
      "execution_count": 21,
      "outputs": [
        {
          "output_type": "execute_result",
          "data": {
            "text/plain": [
              "(244.23390701043138, 1.1365768507791132e-51)"
            ]
          },
          "metadata": {
            "tags": []
          },
          "execution_count": 21
        }
      ]
    },
    {
      "cell_type": "markdown",
      "metadata": {
        "id": "YnWCm8hTtw1H"
      },
      "source": [
        "**p-value가 0.05보다 작기 때문에 귀무가설을 기각하고 대립가설을 채택한다. 따라서 펭귄의 몸무게와 플리퍼 길이는 연관이 있다.**"
      ]
    }
  ]
}